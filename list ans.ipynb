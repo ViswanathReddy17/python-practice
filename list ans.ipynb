{
 "cells": [
  {
   "cell_type": "code",
   "execution_count": null,
   "metadata": {
    "vscode": {
     "languageId": "plaintext"
    }
   },
   "outputs": [],
   "source": [
    "# Python program to demonstrate\n",
    "# default arguments\n",
    "def myFun(x, y=50):\n",
    "    print(\"x: \", x)\n",
    "    print(\"y: \", y)\n",
    "\n",
    "\n",
    "# Driver code (We call myFun() with only\n",
    "# argument)\n",
    "myFun(10)"
   ]
  }
 ],
 "metadata": {
  "language_info": {
   "name": "python"
  }
 },
 "nbformat": 4,
 "nbformat_minor": 2
}
